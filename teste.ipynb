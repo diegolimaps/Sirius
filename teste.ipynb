{
 "cells": [
  {
   "cell_type": "code",
   "execution_count": 3,
   "metadata": {},
   "outputs": [
    {
     "name": "stdout",
     "output_type": "stream",
     "text": [
      "Você é uma criança\n"
     ]
    }
   ],
   "source": [
    "idade = 5\n",
    "if idade < 18:\n",
    "    print('Você é uma criança')\n",
    "else:\n",
    "    print('Você é um adulto')"
   ]
  }
 ],
 "metadata": {
  "kernelspec": {
   "display_name": "Python 3.10.7 64-bit (microsoft store)",
   "language": "python",
   "name": "python3"
  },
  "language_info": {
   "codemirror_mode": {
    "name": "ipython",
    "version": 3
   },
   "file_extension": ".py",
   "mimetype": "text/x-python",
   "name": "python",
   "nbconvert_exporter": "python",
   "pygments_lexer": "ipython3",
   "version": "3.10.7"
  },
  "orig_nbformat": 4,
  "vscode": {
   "interpreter": {
    "hash": "189e4741ac00efc3dab9de385e65222c55688b9a951c04ad0574c4724a5b9ecf"
   }
  }
 },
 "nbformat": 4,
 "nbformat_minor": 2
}
